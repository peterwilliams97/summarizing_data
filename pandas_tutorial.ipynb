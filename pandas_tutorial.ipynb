{
 "metadata": {
  "name": "pandas_tutorial"
 },
 "nbformat": 3,
 "nbformat_minor": 0,
 "worksheets": [
  {
   "cells": [
    {
     "cell_type": "code",
     "collapsed": false,
     "input": [
      "print 'hello world'\n"
     ],
     "language": "python",
     "metadata": {},
     "outputs": [
      {
       "output_type": "stream",
       "stream": "stdout",
       "text": [
        "hello world\n"
       ]
      }
     ],
     "prompt_number": 1
    },
    {
     "cell_type": "code",
     "collapsed": false,
     "input": [
      "data = range(-100,100)\n",
      "y = [x**3 for x in data]\n",
      "title('Cubic plot')\n",
      "plot(data, y, label='$y = x^3$')\n",
      "legend(loc='best')\n"
     ],
     "language": "python",
     "metadata": {},
     "outputs": [
      {
       "output_type": "pyout",
       "prompt_number": 9,
       "text": [
        "<matplotlib.legend.Legend at 0x54efba8>"
       ]
      },
      {
       "output_type": "display_data",
       "png": "[encoded data removed]"
      }
     ],
     "prompt_number": 9
    },
    {
     "cell_type": "code",
     "collapsed": false,
     "input": [
      "import random\n",
      "datapoints = [random.gauss(0,1) for _ in range(1000)]\n",
      "title('Gaussian distribution')\n",
      "h = hist(datapoints)"
     ],
     "language": "python",
     "metadata": {},
     "outputs": [
      {
       "output_type": "display_data",
       "png": "[encoded data removed]"
      }
     ],
     "prompt_number": 11
    },
    {
     "cell_type": "code",
     "collapsed": false,
     "input": [
      "import pandas as pd\n",
      "a = pd.Series([1,2,3])\n",
      "print a\n",
      "print a.dtype"
     ],
     "language": "python",
     "metadata": {},
     "outputs": [
      {
       "output_type": "stream",
       "stream": "stdout",
       "text": [
        "0    1\n",
        "1    2\n",
        "2    3\n",
        "int64\n"
       ]
      }
     ],
     "prompt_number": 3
    },
    {
     "cell_type": "code",
     "collapsed": false,
     "input": [
      "b = pd.Series([1.01 ** i for i in range(5)])\n",
      "print b\n",
      "print b.dtype"
     ],
     "language": "python",
     "metadata": {},
     "outputs": [
      {
       "output_type": "stream",
       "stream": "stdout",
       "text": [
        "0    1.000000\n",
        "1    1.010000\n",
        "2    1.020100\n",
        "3    1.030301\n",
        "4    1.040604\n",
        "float64\n"
       ]
      }
     ],
     "prompt_number": 15
    },
    {
     "cell_type": "code",
     "collapsed": false,
     "input": [
      "print a > 1\n"
     ],
     "language": "python",
     "metadata": {},
     "outputs": [
      {
       "output_type": "stream",
       "stream": "stdout",
       "text": [
        "0    False\n",
        "1     True\n",
        "2     True\n"
       ]
      }
     ],
     "prompt_number": 16
    },
    {
     "cell_type": "code",
     "collapsed": false,
     "input": [
      "\n",
      "\n",
      "\n",
      "d = pd.DataFrame(\n",
      "      [\n",
      "         [1, 2.3, 'three'],\n",
      "         [4, 5, 6],\n",
      "         [10, 11, 12]],\n",
      "      columns=['Integers', 'Floats', 'Mixed'],\n",
      "      index = [1,5,3]\n",
      ")\n",
      "print d\n",
      "print\n",
      "print d.dtypes\n",
      "print\n",
      "print d['Floats']\n",
      "print\n",
      "print d[['Floats','Integers']]\n"
     ],
     "language": "python",
     "metadata": {},
     "outputs": [
      {
       "output_type": "stream",
       "stream": "stdout",
       "text": [
        "   Integers  Floats  Mixed\n",
        "1         1     2.3  three\n",
        "5         4     5.0      6\n",
        "3        10    11.0     12\n",
        "\n",
        "Integers      int64\n",
        "Floats      float64\n",
        "Mixed        object\n",
        "\n",
        "1     2.3\n",
        "5     5.0\n",
        "3    11.0\n",
        "Name: Floats\n",
        "\n",
        "   Floats  Integers\n",
        "1     2.3         1\n",
        "5     5.0         4\n",
        "3    11.0        10\n"
       ]
      }
     ],
     "prompt_number": 28
    },
    {
     "cell_type": "code",
     "collapsed": false,
     "input": [
      "print a\n",
      "print a > 1\n"
     ],
     "language": "python",
     "metadata": {},
     "outputs": [
      {
       "output_type": "stream",
       "stream": "stdout",
       "text": [
        "0    1\n",
        "1    2\n",
        "2    3\n",
        "0    False\n",
        "1     True\n",
        "2     True\n"
       ]
      }
     ],
     "prompt_number": 38
    },
    {
     "cell_type": "code",
     "collapsed": false,
     "input": [
      "print d[1:]\n",
      "print\n",
      "print d.xs('Floats', axis=1)\n",
      "print\n",
      "print d.xs(5, axis=0)\n"
     ],
     "language": "python",
     "metadata": {},
     "outputs": [
      {
       "output_type": "stream",
       "stream": "stdout",
       "text": [
        "   Integers  Floats Mixed\n",
        "5         4       5     6\n",
        "3        10      11    12\n",
        "\n",
        "1     2.3\n",
        "5     5.0\n",
        "3    11.0\n",
        "Name: Floats\n",
        "\n",
        "Integers    4\n",
        "Floats      5\n",
        "Mixed       6\n",
        "Name: 5\n"
       ]
      }
     ],
     "prompt_number": 37
    },
    {
     "cell_type": "code",
     "collapsed": false,
     "input": [
      "print d['Integers']\n",
      "print\n",
      "print d['Integers'][3]\n"
     ],
     "language": "python",
     "metadata": {},
     "outputs": [
      {
       "output_type": "stream",
       "stream": "stdout",
       "text": [
        "1     1\n",
        "5     4\n",
        "3    10\n",
        "Name: Integers\n",
        "\n",
        "10\n"
       ]
      }
     ],
     "prompt_number": 47
    },
    {
     "cell_type": "code",
     "collapsed": false,
     "input": [
      "gt4 = d >= 4\n",
      "igt4 = d['Integers'] >= 4\n",
      "print d\n",
      "print\n",
      "print d[gt4]\n",
      "print\n",
      "print d[np.invert(gt4)]\n",
      "print\n",
      "print d[igt4]"
     ],
     "language": "python",
     "metadata": {},
     "outputs": [
      {
       "ename": "NameError",
       "evalue": "name 'd' is not defined",
       "output_type": "pyerr",
       "traceback": [
        "\u001b[1;31m---------------------------------------------------------------------------\u001b[0m\n\u001b[1;31mNameError\u001b[0m                                 Traceback (most recent call last)",
        "\u001b[1;32m<ipython-input-2-16e65773de5b>\u001b[0m in \u001b[0;36m<module>\u001b[1;34m()\u001b[0m\n\u001b[1;32m----> 1\u001b[1;33m \u001b[0mgt4\u001b[0m \u001b[1;33m=\u001b[0m \u001b[0md\u001b[0m \u001b[1;33m>=\u001b[0m \u001b[1;36m4\u001b[0m\u001b[1;33m\u001b[0m\u001b[0m\n\u001b[0m\u001b[0;32m      2\u001b[0m \u001b[0migt4\u001b[0m \u001b[1;33m=\u001b[0m \u001b[0md\u001b[0m\u001b[1;33m[\u001b[0m\u001b[1;34m'Integers'\u001b[0m\u001b[1;33m]\u001b[0m \u001b[1;33m>=\u001b[0m \u001b[1;36m4\u001b[0m\u001b[1;33m\u001b[0m\u001b[0m\n\u001b[0;32m      3\u001b[0m \u001b[1;32mprint\u001b[0m \u001b[0md\u001b[0m\u001b[1;33m\u001b[0m\u001b[0m\n\u001b[0;32m      4\u001b[0m \u001b[1;32mprint\u001b[0m\u001b[1;33m\u001b[0m\u001b[0m\n\u001b[0;32m      5\u001b[0m \u001b[1;32mprint\u001b[0m \u001b[0md\u001b[0m\u001b[1;33m[\u001b[0m\u001b[0mgt4\u001b[0m\u001b[1;33m]\u001b[0m\u001b[1;33m\u001b[0m\u001b[0m\n",
        "\u001b[1;31mNameError\u001b[0m: name 'd' is not defined"
       ]
      }
     ],
     "prompt_number": 2
    },
    {
     "cell_type": "code",
     "collapsed": false,
     "input": [
      "from __future__ import division\n",
      "import pandas as pd\n",
      "import datetime, time\n",
      "\n",
      "def posix2dt(posix_string):\n",
      "    \"\"\"2013-03-27 09:43:34\"\"\"\n",
      "    #print '!!', posix_string\n",
      "    tm = time.strptime(posix_string, '%Y-%m-%d %H:%M:%S')\n",
      "    #print '@@', tm\n",
      "    dt = datetime.datetime(*tm[:6])\n",
      "    #print '$$', dt\n",
      "    return dt\n",
      "\n",
      "if False:    \n",
      "    print posix2dt.__doc__  \n",
      "    print posix2dt(posix2dt.__doc__) \n",
      "    exit() \n",
      "\n",
      "log = pd.read_csv('print_logs_by_printer.csv',\n",
      "    index_col=0,\n",
      "    parse_dates=0,\n",
      "    date_parser=posix2dt\n",
      ")\n",
      "print log.columns\n",
      "print '-' * 80\n",
      "#for c in log.columns: print log[c]\n",
      "#print    \n",
      "print log.index\n",
      "print log"
     ],
     "language": "python",
     "metadata": {},
     "outputs": [
      {
       "output_type": "stream",
       "stream": "stdout",
       "text": [
        "Index([Username, Full Name, User Office, User Department, Email, Primary Card Number, Charged Account, Shared Account Name, Shared Account Code, Shared Account Parent Name, Shared Account Parent Code, Shared Account Sub Name, Shared Account Sub Code, Printer Server, Printer Name, Physical Printer Identifier, Printer Type/Model, Printer Serial Number, Document, Use Type, Total Pages, Total Color Pages, Color Pages Estimated, Copies, Cost, Paper Size, Paper Width (mm), Paper Height (mm), Duplex, Grayscale, Invoiced, Client, Size (KB), Printer Language, Comment, Printed, Cancelled, Refunded, Allowed, Denied Reason], dtype=object)\n",
        "--------------------------------------------------------------------------------\n",
        "<class 'pandas.tseries.index.DatetimeIndex'>\n",
        "[2013-03-27 09:43:34, ..., 2013-03-27 11:18:35]\n",
        "Length: 32, Freq: None, Timezone: None\n",
        "<class 'pandas.core.frame.DataFrame'>\n",
        "DatetimeIndex: 32 entries, 2013-03-27 09:43:34 to 2013-03-27 11:18:35\n",
        "Data columns:\n",
        "Username                       32  non-null values\n",
        "Full Name                      24  non-null values\n",
        "User Office                    0  non-null values\n",
        "User Department                0  non-null values\n",
        "Email                          0  non-null values\n",
        "Primary Card Number            0  non-null values\n",
        "Charged Account                32  non-null values\n",
        "Shared Account Name            0  non-null values\n",
        "Shared Account Code            0  non-null values\n",
        "Shared Account Parent Name     0  non-null values\n",
        "Shared Account Parent Code     0  non-null values\n",
        "Shared Account Sub Name        0  non-null values\n",
        "Shared Account Sub Code        0  non-null values\n",
        "Printer Server                 32  non-null values\n",
        "Printer Name                   32  non-null values\n",
        "Physical Printer Identifier    32  non-null values\n",
        "Printer Type/Model             32  non-null values\n",
        "Printer Serial Number          0  non-null values\n",
        "Document                       32  non-null values\n",
        "Use Type                       32  non-null values\n",
        "Total Pages                    32  non-null values\n",
        "Total Color Pages              32  non-null values\n",
        "Color Pages Estimated          32  non-null values\n",
        "Copies                         32  non-null values\n",
        "Cost                           32  non-null values\n",
        "Paper Size                     32  non-null values\n",
        "Paper Width (mm)               32  non-null values\n",
        "Paper Height (mm)              32  non-null values\n",
        "Duplex                         32  non-null values\n",
        "Grayscale                      32  non-null values\n",
        "Invoiced                       32  non-null values\n",
        "Client                         32  non-null values\n",
        "Size (KB)                      32  non-null values\n",
        "Printer Language               32  non-null values\n",
        "Comment                        0  non-null values\n",
        "Printed                        32  non-null values\n",
        "Cancelled                      32  non-null values\n",
        "Refunded                       32  non-null values\n",
        "Allowed                        32  non-null values\n",
        "Denied Reason                  0  non-null values\n",
        "dtypes: float64(13), int64(7), object(20)\n"
       ]
      }
     ],
     "prompt_number": 7
    },
    {
     "cell_type": "code",
     "collapsed": false,
     "input": [
      "print 'yo!'"
     ],
     "language": "python",
     "metadata": {},
     "outputs": [
      {
       "output_type": "stream",
       "stream": "stdout",
       "text": [
        "yo!\n"
       ]
      }
     ],
     "prompt_number": 1
    }
   ],
   "metadata": {}
  }
 ]
}